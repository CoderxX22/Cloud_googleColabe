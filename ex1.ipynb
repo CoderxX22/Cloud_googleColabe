{
  "nbformat": 4,
  "nbformat_minor": 0,
  "metadata": {
    "colab": {
      "provenance": [],
      "authorship_tag": "ABX9TyMuoUYnHr2/D9084o8bagAD",
      "include_colab_link": true
    },
    "kernelspec": {
      "name": "python3",
      "display_name": "Python 3"
    },
    "language_info": {
      "name": "python"
    },
    "widgets": {
      "application/vnd.jupyter.widget-state+json": {
        "83c4953c5b9c42a8a06f4bf45ac90902": {
          "model_module": "@jupyter-widgets/controls",
          "model_name": "DropdownModel",
          "model_module_version": "1.5.0",
          "state": {
            "_dom_classes": [],
            "_model_module": "@jupyter-widgets/controls",
            "_model_module_version": "1.5.0",
            "_model_name": "DropdownModel",
            "_options_labels": [
              "choose student",
              "Nir Froimovich",
              "Alex Segal"
            ],
            "_view_count": null,
            "_view_module": "@jupyter-widgets/controls",
            "_view_module_version": "1.5.0",
            "_view_name": "DropdownView",
            "description": "Students:",
            "description_tooltip": null,
            "disabled": false,
            "index": 1,
            "layout": "IPY_MODEL_68417fdb54f74ba9977757d5ce89494e",
            "style": "IPY_MODEL_b6225e36d6ee45ec8afc564941eae535"
          }
        },
        "68417fdb54f74ba9977757d5ce89494e": {
          "model_module": "@jupyter-widgets/base",
          "model_name": "LayoutModel",
          "model_module_version": "1.2.0",
          "state": {
            "_model_module": "@jupyter-widgets/base",
            "_model_module_version": "1.2.0",
            "_model_name": "LayoutModel",
            "_view_count": null,
            "_view_module": "@jupyter-widgets/base",
            "_view_module_version": "1.2.0",
            "_view_name": "LayoutView",
            "align_content": null,
            "align_items": null,
            "align_self": null,
            "border": null,
            "bottom": null,
            "display": null,
            "flex": null,
            "flex_flow": null,
            "grid_area": null,
            "grid_auto_columns": null,
            "grid_auto_flow": null,
            "grid_auto_rows": null,
            "grid_column": null,
            "grid_gap": null,
            "grid_row": null,
            "grid_template_areas": null,
            "grid_template_columns": null,
            "grid_template_rows": null,
            "height": null,
            "justify_content": null,
            "justify_items": null,
            "left": null,
            "margin": null,
            "max_height": null,
            "max_width": null,
            "min_height": null,
            "min_width": null,
            "object_fit": null,
            "object_position": null,
            "order": null,
            "overflow": null,
            "overflow_x": null,
            "overflow_y": null,
            "padding": null,
            "right": null,
            "top": null,
            "visibility": null,
            "width": null
          }
        },
        "b6225e36d6ee45ec8afc564941eae535": {
          "model_module": "@jupyter-widgets/controls",
          "model_name": "DescriptionStyleModel",
          "model_module_version": "1.5.0",
          "state": {
            "_model_module": "@jupyter-widgets/controls",
            "_model_module_version": "1.5.0",
            "_model_name": "DescriptionStyleModel",
            "_view_count": null,
            "_view_module": "@jupyter-widgets/base",
            "_view_module_version": "1.2.0",
            "_view_name": "StyleView",
            "description_width": ""
          }
        },
        "7cc1ee4fd31942269c681126ac278193": {
          "model_module": "@jupyter-widgets/controls",
          "model_name": "TextModel",
          "model_module_version": "1.5.0",
          "state": {
            "_dom_classes": [],
            "_model_module": "@jupyter-widgets/controls",
            "_model_module_version": "1.5.0",
            "_model_name": "TextModel",
            "_view_count": null,
            "_view_module": "@jupyter-widgets/controls",
            "_view_module_version": "1.5.0",
            "_view_name": "TextView",
            "continuous_update": true,
            "description": "Favorite Show:",
            "description_tooltip": null,
            "disabled": false,
            "layout": "IPY_MODEL_3d86a3e32a0b4baca3083e491e513c05",
            "placeholder": "Enter show name here...",
            "style": "IPY_MODEL_cda01e73d9254eba813cedb2140d120d",
            "value": ""
          }
        },
        "3d86a3e32a0b4baca3083e491e513c05": {
          "model_module": "@jupyter-widgets/base",
          "model_name": "LayoutModel",
          "model_module_version": "1.2.0",
          "state": {
            "_model_module": "@jupyter-widgets/base",
            "_model_module_version": "1.2.0",
            "_model_name": "LayoutModel",
            "_view_count": null,
            "_view_module": "@jupyter-widgets/base",
            "_view_module_version": "1.2.0",
            "_view_name": "LayoutView",
            "align_content": null,
            "align_items": null,
            "align_self": null,
            "border": null,
            "bottom": null,
            "display": null,
            "flex": null,
            "flex_flow": null,
            "grid_area": null,
            "grid_auto_columns": null,
            "grid_auto_flow": null,
            "grid_auto_rows": null,
            "grid_column": null,
            "grid_gap": null,
            "grid_row": null,
            "grid_template_areas": null,
            "grid_template_columns": null,
            "grid_template_rows": null,
            "height": null,
            "justify_content": null,
            "justify_items": null,
            "left": null,
            "margin": null,
            "max_height": null,
            "max_width": null,
            "min_height": null,
            "min_width": null,
            "object_fit": null,
            "object_position": null,
            "order": null,
            "overflow": null,
            "overflow_x": null,
            "overflow_y": null,
            "padding": null,
            "right": null,
            "top": null,
            "visibility": null,
            "width": "400px"
          }
        },
        "cda01e73d9254eba813cedb2140d120d": {
          "model_module": "@jupyter-widgets/controls",
          "model_name": "DescriptionStyleModel",
          "model_module_version": "1.5.0",
          "state": {
            "_model_module": "@jupyter-widgets/controls",
            "_model_module_version": "1.5.0",
            "_model_name": "DescriptionStyleModel",
            "_view_count": null,
            "_view_module": "@jupyter-widgets/base",
            "_view_module_version": "1.2.0",
            "_view_name": "StyleView",
            "description_width": ""
          }
        },
        "21f4b6e883d64cc5b43c0abd4907da62": {
          "model_module": "@jupyter-widgets/controls",
          "model_name": "ButtonModel",
          "model_module_version": "1.5.0",
          "state": {
            "_dom_classes": [],
            "_model_module": "@jupyter-widgets/controls",
            "_model_module_version": "1.5.0",
            "_model_name": "ButtonModel",
            "_view_count": null,
            "_view_module": "@jupyter-widgets/controls",
            "_view_module_version": "1.5.0",
            "_view_name": "ButtonView",
            "button_style": "success",
            "description": "Submit",
            "disabled": false,
            "icon": "check",
            "layout": "IPY_MODEL_a3f977b23727452487b441832e8dbce9",
            "style": "IPY_MODEL_87f3082d375a47ed8669fb65090c164f",
            "tooltip": "Click to submit the favorite show"
          }
        },
        "a3f977b23727452487b441832e8dbce9": {
          "model_module": "@jupyter-widgets/base",
          "model_name": "LayoutModel",
          "model_module_version": "1.2.0",
          "state": {
            "_model_module": "@jupyter-widgets/base",
            "_model_module_version": "1.2.0",
            "_model_name": "LayoutModel",
            "_view_count": null,
            "_view_module": "@jupyter-widgets/base",
            "_view_module_version": "1.2.0",
            "_view_name": "LayoutView",
            "align_content": null,
            "align_items": null,
            "align_self": null,
            "border": null,
            "bottom": null,
            "display": null,
            "flex": null,
            "flex_flow": null,
            "grid_area": null,
            "grid_auto_columns": null,
            "grid_auto_flow": null,
            "grid_auto_rows": null,
            "grid_column": null,
            "grid_gap": null,
            "grid_row": null,
            "grid_template_areas": null,
            "grid_template_columns": null,
            "grid_template_rows": null,
            "height": null,
            "justify_content": null,
            "justify_items": null,
            "left": null,
            "margin": null,
            "max_height": null,
            "max_width": null,
            "min_height": null,
            "min_width": null,
            "object_fit": null,
            "object_position": null,
            "order": null,
            "overflow": null,
            "overflow_x": null,
            "overflow_y": null,
            "padding": null,
            "right": null,
            "top": null,
            "visibility": null,
            "width": null
          }
        },
        "87f3082d375a47ed8669fb65090c164f": {
          "model_module": "@jupyter-widgets/controls",
          "model_name": "ButtonStyleModel",
          "model_module_version": "1.5.0",
          "state": {
            "_model_module": "@jupyter-widgets/controls",
            "_model_module_version": "1.5.0",
            "_model_name": "ButtonStyleModel",
            "_view_count": null,
            "_view_module": "@jupyter-widgets/base",
            "_view_module_version": "1.2.0",
            "_view_name": "StyleView",
            "button_color": null,
            "font_weight": ""
          }
        }
      }
    }
  },
  "cells": [
    {
      "cell_type": "markdown",
      "metadata": {
        "id": "view-in-github",
        "colab_type": "text"
      },
      "source": [
        "<a href=\"https://colab.research.google.com/github/CoderxX22/Cloud_googleColabe/blob/main/ex1.ipynb\" target=\"_parent\"><img src=\"https://colab.research.google.com/assets/colab-badge.svg\" alt=\"Open In Colab\"/></a>"
      ]
    },
    {
      "cell_type": "code",
      "source": [
        "import numpy"
      ],
      "metadata": {
        "id": "MruMQ5_sgXqU"
      },
      "execution_count": null,
      "outputs": []
    },
    {
      "cell_type": "markdown",
      "source": [],
      "metadata": {
        "id": "e_gcxzFX3mn6"
      }
    },
    {
      "cell_type": "code",
      "source": [],
      "metadata": {
        "id": "xRnsfqyv6Vgu"
      },
      "execution_count": null,
      "outputs": []
    },
    {
      "cell_type": "code",
      "source": [
        "# @title Default title text\n",
        "import ipywidgets as widgets\n",
        "from IPython.display import display\n",
        "\n",
        "# Read the contents of the students.txt file\n",
        "with open('students.txt', 'r') as file:\n",
        "    contents = file.read()\n",
        "\n",
        "# Split the contents into a list of student names\n",
        "\n",
        "students = contents.split('\\n')\n",
        "for i in range(len(students)):\n",
        "    students[i] = students[i].split(',')\n",
        "\n",
        "student = [0] * len(students)\n",
        "for i in range(len(students)):\n",
        "    student[i] = students[i][0]\n",
        "# Create a dropdown widget\n",
        "dropdown = widgets.Dropdown(options = student, description='Students:' , value = 'choose student',\n",
        "    disabled=False)\n",
        "\n",
        "def display_selected_student(change):\n",
        "    selected_student = change['new']  # Get the new selected value\n",
        "    for i in range(len(student)):\n",
        "        if students[i][0] == selected_student:\n",
        "            selected_student = students[i]\n",
        "            break\n",
        "    print(f'Selected student: {selected_student}')\n",
        "\n",
        "# Create a text box for entering the favorite show\n",
        "show_textbox = widgets.Text(\n",
        "    description='Favorite Show:',\n",
        "    placeholder='Enter show name here...',\n",
        "    layout={'width': '400px'}\n",
        ")\n",
        "\n",
        "# Create a button to submit the favorite show\n",
        "submit_button = widgets.Button(\n",
        "    description='Submit',\n",
        "    button_style='success',  # Optional: 'success', 'info', 'warning', 'danger'\n",
        "    tooltip='Click to submit the favorite show',\n",
        "    icon='check'  # Optional: Icon name from FontAwesome\n",
        ")\n",
        "\n",
        "# Function to handle the button click\n",
        "def submit_favorite_show(_):\n",
        "    selected_student = dropdown.value\n",
        "    favorite_show = show_textbox.value.strip()\n",
        "\n",
        "    if favorite_show:\n",
        "        # Update the student's favorite show in the list\n",
        "        for s in students:\n",
        "            if s[0] == selected_student:\n",
        "                if len(s) > 1:  # Update existing favorite show\n",
        "                    s[1] = favorite_show\n",
        "                else:  # Add a new favorite show\n",
        "                    s.append(favorite_show)\n",
        "                break\n",
        "\n",
        "        # Write updated data back to the file\n",
        "        with open('students.txt', 'w') as file:\n",
        "            file.writelines([','.join(s) + '\\n' for s in students])\n",
        "\n",
        "        print(f\"Updated {selected_student}'s favorite show to: {favorite_show}\")\n",
        "        show_textbox.value = ''  # Clear the text box\n",
        "    else:\n",
        "        print(\"Please enter a favorite show.\")\n",
        "\n",
        "# Attach the function to the button click event\n",
        "submit_button.on_click(submit_favorite_show)\n",
        "\n",
        "# Attach the function to the dropdown's value change event\n",
        "dropdown.observe(display_selected_student, names='value')\n",
        "\n",
        "# Display the dropdown widget\n",
        "display(dropdown)\n",
        "display(show_textbox)\n",
        "display(submit_button)\n"
      ],
      "metadata": {
        "colab": {
          "base_uri": "https://localhost:8080/",
          "height": 166,
          "referenced_widgets": [
            "83c4953c5b9c42a8a06f4bf45ac90902",
            "68417fdb54f74ba9977757d5ce89494e",
            "b6225e36d6ee45ec8afc564941eae535",
            "7cc1ee4fd31942269c681126ac278193",
            "3d86a3e32a0b4baca3083e491e513c05",
            "cda01e73d9254eba813cedb2140d120d",
            "21f4b6e883d64cc5b43c0abd4907da62",
            "a3f977b23727452487b441832e8dbce9",
            "87f3082d375a47ed8669fb65090c164f"
          ]
        },
        "id": "1Cen8W1_ggvi",
        "outputId": "324d6a3d-51ea-4d35-c8c3-068787c89d1c"
      },
      "execution_count": null,
      "outputs": [
        {
          "output_type": "display_data",
          "data": {
            "text/plain": [
              "Dropdown(description='Students:', options=('choose student', 'Nir Froimovich', 'Alex Segal'), value='choose st…"
            ],
            "application/vnd.jupyter.widget-view+json": {
              "version_major": 2,
              "version_minor": 0,
              "model_id": "83c4953c5b9c42a8a06f4bf45ac90902"
            }
          },
          "metadata": {}
        },
        {
          "output_type": "display_data",
          "data": {
            "text/plain": [
              "Text(value='', description='Favorite Show:', layout=Layout(width='400px'), placeholder='Enter show name here..…"
            ],
            "application/vnd.jupyter.widget-view+json": {
              "version_major": 2,
              "version_minor": 0,
              "model_id": "7cc1ee4fd31942269c681126ac278193"
            }
          },
          "metadata": {}
        },
        {
          "output_type": "display_data",
          "data": {
            "text/plain": [
              "Button(button_style='success', description='Submit', icon='check', style=ButtonStyle(), tooltip='Click to subm…"
            ],
            "application/vnd.jupyter.widget-view+json": {
              "version_major": 2,
              "version_minor": 0,
              "model_id": "21f4b6e883d64cc5b43c0abd4907da62"
            }
          },
          "metadata": {}
        },
        {
          "output_type": "stream",
          "name": "stdout",
          "text": [
            "Selected student: ['Nir Froimovich', ' Nir.Froimovich@e.braude.ac.il', ' [AI/Data Mining/Compilation/Cloud/Web]', ' https://www.youtube.com/watch?v=dQw4w9WgXcQ']\n",
            "Updated Nir Froimovich's favorite show to: dexter\n"
          ]
        }
      ]
    }
  ]
}